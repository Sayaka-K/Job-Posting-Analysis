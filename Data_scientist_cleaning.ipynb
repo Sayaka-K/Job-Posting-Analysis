{
 "cells": [
  {
   "cell_type": "code",
   "execution_count": 62,
   "metadata": {},
   "outputs": [],
   "source": [
    "import numpy as np\n",
    "import pandas as pd\n",
    "import matplotlib.pyplot as plt\n",
    "import plotly.express as px\n",
    "import plotly.graph_objects as go\n",
    "import seaborn as sns\n"
   ]
  },
  {
   "cell_type": "code",
   "execution_count": 63,
   "metadata": {},
   "outputs": [],
   "source": [
    "df=pd.read_csv('dsp1.csv')\n"
   ]
  },
  {
   "cell_type": "code",
   "execution_count": 64,
   "metadata": {},
   "outputs": [
    {
     "data": {
      "text/plain": [
       "Index(['Job Title', 'Salary Estimate', 'Job Description', 'Rating',\n",
       "       'Company Name', 'Location', 'Headquarters', 'Size', 'Founded',\n",
       "       'Type of ownership', 'Industry', 'Sector', 'Revenue', 'Competitors',\n",
       "       'Easy Apply', 'Min_salary', 'Max_salary'],\n",
       "      dtype='object')"
      ]
     },
     "execution_count": 64,
     "metadata": {},
     "output_type": "execute_result"
    }
   ],
   "source": [
    "df.columns\n"
   ]
  },
  {
   "cell_type": "code",
   "execution_count": 65,
   "metadata": {},
   "outputs": [
    {
     "data": {
      "text/html": [
       "<div>\n",
       "<style scoped>\n",
       "    .dataframe tbody tr th:only-of-type {\n",
       "        vertical-align: middle;\n",
       "    }\n",
       "\n",
       "    .dataframe tbody tr th {\n",
       "        vertical-align: top;\n",
       "    }\n",
       "\n",
       "    .dataframe thead th {\n",
       "        text-align: right;\n",
       "    }\n",
       "</style>\n",
       "<table border=\"1\" class=\"dataframe\">\n",
       "  <thead>\n",
       "    <tr style=\"text-align: right;\">\n",
       "      <th></th>\n",
       "      <th>Job Title</th>\n",
       "      <th>Salary Estimate</th>\n",
       "      <th>Job Description</th>\n",
       "      <th>Rating</th>\n",
       "      <th>Company Name</th>\n",
       "      <th>Location</th>\n",
       "      <th>Headquarters</th>\n",
       "      <th>Size</th>\n",
       "      <th>Founded</th>\n",
       "      <th>Type of ownership</th>\n",
       "      <th>Industry</th>\n",
       "      <th>Sector</th>\n",
       "      <th>Revenue</th>\n",
       "      <th>Competitors</th>\n",
       "      <th>Easy Apply</th>\n",
       "      <th>Min_salary</th>\n",
       "      <th>Max_salary</th>\n",
       "    </tr>\n",
       "  </thead>\n",
       "  <tbody>\n",
       "    <tr>\n",
       "      <th>0</th>\n",
       "      <td>Senior Data Scientist</td>\n",
       "      <td>111  -181</td>\n",
       "      <td>ABOUT HOPPER\\n\\nAt Hopper, we’re on a mission ...</td>\n",
       "      <td>3.5</td>\n",
       "      <td>Hopper\\n3.5</td>\n",
       "      <td>New Yor, NY</td>\n",
       "      <td>Montreal, Canada</td>\n",
       "      <td>501 to 1000 employees</td>\n",
       "      <td>2007</td>\n",
       "      <td>Company   ,  Private</td>\n",
       "      <td>Travel Agencies</td>\n",
       "      <td>Travel &amp; Tourism</td>\n",
       "      <td>Unnown / Non  , Applicable</td>\n",
       "      <td>-1</td>\n",
       "      <td>-1</td>\n",
       "      <td>111</td>\n",
       "      <td>181</td>\n",
       "    </tr>\n",
       "    <tr>\n",
       "      <th>1</th>\n",
       "      <td>Data Scientist, Product Analytics</td>\n",
       "      <td>111  -181</td>\n",
       "      <td>At Noom, we use scientifically proven methods ...</td>\n",
       "      <td>4.5</td>\n",
       "      <td>Noom US\\n4.5</td>\n",
       "      <td>New Yor, NY</td>\n",
       "      <td>New Yor, NY</td>\n",
       "      <td>1001 to 5000 employees</td>\n",
       "      <td>2008</td>\n",
       "      <td>Company   ,  Private</td>\n",
       "      <td>Health, Beauty, &amp; Fitness</td>\n",
       "      <td>Consumer Services</td>\n",
       "      <td>Unnown / Non  , Applicable</td>\n",
       "      <td>-1</td>\n",
       "      <td>-1</td>\n",
       "      <td>111</td>\n",
       "      <td>181</td>\n",
       "    </tr>\n",
       "    <tr>\n",
       "      <th>2</th>\n",
       "      <td>Data Science Manager</td>\n",
       "      <td>111  -181</td>\n",
       "      <td>Decode_M\\n\\nhttps://www.decode  , m.com/\\n\\nDa...</td>\n",
       "      <td>-1.0</td>\n",
       "      <td>Decode_M</td>\n",
       "      <td>New Yor, NY</td>\n",
       "      <td>New Yor, NY</td>\n",
       "      <td>1 to 50 employees</td>\n",
       "      <td>-1</td>\n",
       "      <td>Unnown</td>\n",
       "      <td>-1</td>\n",
       "      <td>-1</td>\n",
       "      <td>Unnown / Non  , Applicable</td>\n",
       "      <td>-1</td>\n",
       "      <td>TRUE</td>\n",
       "      <td>111</td>\n",
       "      <td>181</td>\n",
       "    </tr>\n",
       "    <tr>\n",
       "      <th>3</th>\n",
       "      <td>Data Analyst</td>\n",
       "      <td>111  -181</td>\n",
       "      <td>Sapphire Digital sees a dynamic and driven mid...</td>\n",
       "      <td>3.4</td>\n",
       "      <td>Sapphire Digital\\n3.4</td>\n",
       "      <td>Lyndhurst, NJ</td>\n",
       "      <td>Lyndhurst, NJ</td>\n",
       "      <td>201 to 500 employees</td>\n",
       "      <td>2019</td>\n",
       "      <td>Company   ,  Private</td>\n",
       "      <td>Internet</td>\n",
       "      <td>Information Technology</td>\n",
       "      <td>Unnown / Non  , Applicable</td>\n",
       "      <td>Zocdoc, Healthgrades</td>\n",
       "      <td>-1</td>\n",
       "      <td>111</td>\n",
       "      <td>181</td>\n",
       "    </tr>\n",
       "    <tr>\n",
       "      <th>4</th>\n",
       "      <td>Director, Data Science</td>\n",
       "      <td>111  -181</td>\n",
       "      <td>Director, Data Science   ,  (200537)\\nDescript...</td>\n",
       "      <td>3.4</td>\n",
       "      <td>United Entertainment Group\\n3.4</td>\n",
       "      <td>New Yor, NY</td>\n",
       "      <td>New Yor, NY</td>\n",
       "      <td>51 to 200 employees</td>\n",
       "      <td>2007</td>\n",
       "      <td>Company   ,  Private</td>\n",
       "      <td>Advertising &amp; Mareting</td>\n",
       "      <td>Business Services</td>\n",
       "      <td>Unnown / Non  , Applicable</td>\n",
       "      <td>BBDO, Grey Group, Droga5</td>\n",
       "      <td>-1</td>\n",
       "      <td>111</td>\n",
       "      <td>181</td>\n",
       "    </tr>\n",
       "  </tbody>\n",
       "</table>\n",
       "</div>"
      ],
      "text/plain": [
       "                           Job Title Salary Estimate  \\\n",
       "0              Senior Data Scientist       111  -181   \n",
       "1  Data Scientist, Product Analytics      111  -181    \n",
       "2               Data Science Manager      111  -181    \n",
       "3                       Data Analyst      111  -181    \n",
       "4             Director, Data Science      111  -181    \n",
       "\n",
       "                                     Job Description  Rating  \\\n",
       "0  ABOUT HOPPER\\n\\nAt Hopper, we’re on a mission ...     3.5   \n",
       "1  At Noom, we use scientifically proven methods ...     4.5   \n",
       "2  Decode_M\\n\\nhttps://www.decode  , m.com/\\n\\nDa...    -1.0   \n",
       "3  Sapphire Digital sees a dynamic and driven mid...     3.4   \n",
       "4  Director, Data Science   ,  (200537)\\nDescript...     3.4   \n",
       "\n",
       "                      Company Name       Location      Headquarters  \\\n",
       "0                      Hopper\\n3.5    New Yor, NY  Montreal, Canada   \n",
       "1                     Noom US\\n4.5    New Yor, NY       New Yor, NY   \n",
       "2                         Decode_M    New Yor, NY       New Yor, NY   \n",
       "3            Sapphire Digital\\n3.4  Lyndhurst, NJ     Lyndhurst, NJ   \n",
       "4  United Entertainment Group\\n3.4    New Yor, NY       New Yor, NY   \n",
       "\n",
       "                     Size  Founded     Type of ownership  \\\n",
       "0   501 to 1000 employees     2007  Company   ,  Private   \n",
       "1  1001 to 5000 employees     2008  Company   ,  Private   \n",
       "2       1 to 50 employees       -1                Unnown   \n",
       "3    201 to 500 employees     2019  Company   ,  Private   \n",
       "4     51 to 200 employees     2007  Company   ,  Private   \n",
       "\n",
       "                    Industry                  Sector  \\\n",
       "0            Travel Agencies        Travel & Tourism   \n",
       "1  Health, Beauty, & Fitness       Consumer Services   \n",
       "2                         -1                      -1   \n",
       "3                   Internet  Information Technology   \n",
       "4     Advertising & Mareting       Business Services   \n",
       "\n",
       "                      Revenue               Competitors Easy Apply  \\\n",
       "0  Unnown / Non  , Applicable                        -1         -1   \n",
       "1  Unnown / Non  , Applicable                        -1         -1   \n",
       "2  Unnown / Non  , Applicable                        -1       TRUE   \n",
       "3  Unnown / Non  , Applicable      Zocdoc, Healthgrades         -1   \n",
       "4  Unnown / Non  , Applicable  BBDO, Grey Group, Droga5         -1   \n",
       "\n",
       "   Min_salary  Max_salary  \n",
       "0         111         181  \n",
       "1         111         181  \n",
       "2         111         181  \n",
       "3         111         181  \n",
       "4         111         181  "
      ]
     },
     "execution_count": 65,
     "metadata": {},
     "output_type": "execute_result"
    }
   ],
   "source": [
    "df.head()"
   ]
  },
  {
   "cell_type": "code",
   "execution_count": 66,
   "metadata": {},
   "outputs": [],
   "source": [
    "df['Avg_salary'] =  ((df.Min_salary+df.Max_salary)/2)\n"
   ]
  },
  {
   "cell_type": "code",
   "execution_count": 67,
   "metadata": {},
   "outputs": [
    {
     "data": {
      "text/plain": [
       "0       146.0\n",
       "1       146.0\n",
       "2       146.0\n",
       "3       146.0\n",
       "4       146.0\n",
       "        ...  \n",
       "3904     83.5\n",
       "3905     83.5\n",
       "3906     83.5\n",
       "3907     83.5\n",
       "3908     83.5\n",
       "Name: Avg_salary, Length: 3909, dtype: float64"
      ]
     },
     "execution_count": 67,
     "metadata": {},
     "output_type": "execute_result"
    }
   ],
   "source": [
    "df['Avg_salary']"
   ]
  },
  {
   "cell_type": "code",
   "execution_count": 68,
   "metadata": {},
   "outputs": [
    {
     "data": {
      "text/plain": [
       "0        NY\n",
       "1        NY\n",
       "2        NY\n",
       "3        NJ\n",
       "4        NY\n",
       "       ... \n",
       "3904     OH\n",
       "3905     OH\n",
       "3906     OH\n",
       "3907     OH\n",
       "3908     OH\n",
       "Name: Job_state, Length: 3909, dtype: object"
      ]
     },
     "execution_count": 68,
     "metadata": {},
     "output_type": "execute_result"
    }
   ],
   "source": [
    "df['Job_state'] = df['Location'].apply(lambda x: x.split(',')[1])\n",
    "df.Job_state.value_counts()\n",
    "df['Job_state']"
   ]
  },
  {
   "cell_type": "code",
   "execution_count": 69,
   "metadata": {},
   "outputs": [
    {
     "data": {
      "text/plain": [
       "0         New Yor\n",
       "1         New Yor\n",
       "2         New Yor\n",
       "3       Lyndhurst\n",
       "4         New Yor\n",
       "          ...    \n",
       "3904       Dublin\n",
       "3905     Columbus\n",
       "3906       Dublin\n",
       "3907       Dublin\n",
       "3908       Slough\n",
       "Name: Job_city, Length: 3909, dtype: object"
      ]
     },
     "execution_count": 69,
     "metadata": {},
     "output_type": "execute_result"
    }
   ],
   "source": [
    "df['Job_city'] = df['Location'].apply(lambda x: x.split(',')[0])\n",
    "\n",
    "df['Job_city']"
   ]
  },
  {
   "cell_type": "code",
   "execution_count": 70,
   "metadata": {},
   "outputs": [
    {
     "data": {
      "text/plain": [
       "0       0\n",
       "1       1\n",
       "2       1\n",
       "3       1\n",
       "4       1\n",
       "       ..\n",
       "3904    0\n",
       "3905    0\n",
       "3906    0\n",
       "3907    0\n",
       "3908    0\n",
       "Name: Same_state_hq_jl, Length: 3909, dtype: int64"
      ]
     },
     "execution_count": 70,
     "metadata": {},
     "output_type": "execute_result"
    }
   ],
   "source": [
    "df['headquarters_city'] = df['Headquarters'].apply(lambda x: x.split(',')[0])\n",
    "df['headquarters_city']\n",
    "df['Same_state_hq_jl'] = df.apply(lambda x:1 if x.Location == x.Headquarters else 0 , axis=1)\n",
    "df['Same_state_hq_jl']"
   ]
  },
  {
   "cell_type": "code",
   "execution_count": 71,
   "metadata": {},
   "outputs": [
    {
     "data": {
      "text/plain": [
       "0       13\n",
       "1       12\n",
       "2       -1\n",
       "3        1\n",
       "4       13\n",
       "        ..\n",
       "3904     9\n",
       "3905    12\n",
       "3906    43\n",
       "3907    -1\n",
       "3908    -1\n",
       "Name: Age, Length: 3909, dtype: int64"
      ]
     },
     "execution_count": 71,
     "metadata": {},
     "output_type": "execute_result"
    }
   ],
   "source": [
    "df['Age']= df.Founded.apply(lambda x:x if x<1 else 2020-x)\n",
    "df['Age']"
   ]
  },
  {
   "cell_type": "code",
   "execution_count": 73,
   "metadata": {},
   "outputs": [
    {
     "data": {
      "text/plain": [
       "1    2057\n",
       "0    1852\n",
       "Name: python_jd, dtype: int64"
      ]
     },
     "execution_count": 73,
     "metadata": {},
     "output_type": "execute_result"
    }
   ],
   "source": [
    "df['python_jd']= df['Job Description'].apply(lambda x: 1 if 'python' in x.lower() else 0 )\n",
    "df.python_jd.value_counts()"
   ]
  },
  {
   "cell_type": "code",
   "execution_count": 87,
   "metadata": {},
   "outputs": [
    {
     "data": {
      "text/plain": [
       "1    2077\n",
       "0    1832\n",
       "Name: Sql, dtype: int64"
      ]
     },
     "execution_count": 87,
     "metadata": {},
     "output_type": "execute_result"
    }
   ],
   "source": [
    "df['Sql']= df['Job Description'].apply(lambda x: 1 if 'sql'  in x.lower() or 'query' in x.lower() else 0 )\n",
    "df.Sql.value_counts()\n"
   ]
  },
  {
   "cell_type": "code",
   "execution_count": 75,
   "metadata": {},
   "outputs": [
    {
     "data": {
      "text/plain": [
       "0    2865\n",
       "1    1044\n",
       "Name: aws, dtype: int64"
      ]
     },
     "execution_count": 75,
     "metadata": {},
     "output_type": "execute_result"
    }
   ],
   "source": [
    "df['aws']= df['Job Description'].apply(lambda x: 1 if 'aws'  in x.lower() or 'amazon' in x.lower()  else 0 )\n",
    "df.aws.value_counts()"
   ]
  },
  {
   "cell_type": "code",
   "execution_count": 76,
   "metadata": {},
   "outputs": [
    {
     "data": {
      "text/plain": [
       "0    2710\n",
       "1    1199\n",
       "Name: visualization, dtype: int64"
      ]
     },
     "execution_count": 76,
     "metadata": {},
     "output_type": "execute_result"
    }
   ],
   "source": [
    "df['visualization']= df['Job Description'].apply(lambda x: 1 if 'visualize '  in x.lower() or 'tableau' in x.lower() or 'visualization' in x.lower()  else 0 )\n",
    "df.visualization.value_counts()"
   ]
  },
  {
   "cell_type": "code",
   "execution_count": 77,
   "metadata": {},
   "outputs": [
    {
     "data": {
      "text/plain": [
       "1    2042\n",
       "0    1867\n",
       "Name: Project_Management, dtype: int64"
      ]
     },
     "execution_count": 77,
     "metadata": {},
     "output_type": "execute_result"
    }
   ],
   "source": [
    "df['Project_Management']= df['Job Description'].apply(lambda x: 1 if 'project management'  in x.lower() or 'team work' in x.lower() or 'project' in x.lower()  else 0 )\n",
    "df.Project_Management.value_counts()"
   ]
  },
  {
   "cell_type": "code",
   "execution_count": 78,
   "metadata": {},
   "outputs": [
    {
     "data": {
      "text/plain": [
       "0    2054\n",
       "1    1855\n",
       "Name: Excel, dtype: int64"
      ]
     },
     "execution_count": 78,
     "metadata": {},
     "output_type": "execute_result"
    }
   ],
   "source": [
    "df['Excel']= df['Job Description'].apply(lambda x: 1 if 'excel'  in x.lower() or 'Ms' in x.lower() else 0 )\n",
    "df.Excel.value_counts()"
   ]
  },
  {
   "cell_type": "code",
   "execution_count": 81,
   "metadata": {},
   "outputs": [
    {
     "data": {
      "text/plain": [
       "0    3272\n",
       "1     637\n",
       "Name: Hadoop, dtype: int64"
      ]
     },
     "execution_count": 81,
     "metadata": {},
     "output_type": "execute_result"
    }
   ],
   "source": [
    "df['Hadoop']= df['Job Description'].apply(lambda x: 1 if 'hadoop'  in x.lower()  else 0 )\n",
    "df.Hadoop.value_counts()"
   ]
  },
  {
   "cell_type": "code",
   "execution_count": 88,
   "metadata": {},
   "outputs": [
    {
     "data": {
      "text/plain": [
       "0    2592\n",
       "1    1317\n",
       "Name: Machine Learning, dtype: int64"
      ]
     },
     "execution_count": 88,
     "metadata": {},
     "output_type": "execute_result"
    }
   ],
   "source": [
    "df['Machine Learning']= df['Job Description'].apply(lambda x: 1 if 'machine learning'  in x.lower()  else 0 )\n",
    "df['Machine Learning'].value_counts()"
   ]
  },
  {
   "cell_type": "code",
   "execution_count": 91,
   "metadata": {},
   "outputs": [
    {
     "data": {
      "text/plain": [
       "1    3527\n",
       "0     382\n",
       "Name: Ai, dtype: int64"
      ]
     },
     "execution_count": 91,
     "metadata": {},
     "output_type": "execute_result"
    }
   ],
   "source": [
    "df['Ai']= df['Job Description'].apply(lambda x: 1 if 'artifical intelligence'  in x.lower() or 'ai' in x.lower() else 0 )\n",
    "df.Ai.value_counts()"
   ]
  },
  {
   "cell_type": "code",
   "execution_count": 92,
   "metadata": {},
   "outputs": [
    {
     "data": {
      "text/plain": [
       "0    3609\n",
       "1     300\n",
       "Name: Unstructured Data, dtype: int64"
      ]
     },
     "execution_count": 92,
     "metadata": {},
     "output_type": "execute_result"
    }
   ],
   "source": [
    "df['Unstructured Data']= df['Job Description'].apply(lambda x: 1 if 'unstructured '  in x.lower()  else 0 )\n",
    "df['Unstructured Data'].value_counts()"
   ]
  },
  {
   "cell_type": "code",
   "execution_count": 102,
   "metadata": {},
   "outputs": [
    {
     "data": {
      "text/plain": [
       "0    3117\n",
       "1     792\n",
       "Name: Teamwork, dtype: int64"
      ]
     },
     "execution_count": 102,
     "metadata": {},
     "output_type": "execute_result"
    }
   ],
   "source": [
    "df['java']= df['Job Description'].apply(lambda x: 1 if 'java'  in x.lower()  else 0 )\n",
    "df['java'].value_counts()"
   ]
  },
  {
   "cell_type": "code",
   "execution_count": 95,
   "metadata": {},
   "outputs": [
    {
     "data": {
      "text/plain": [
       "0    1975\n",
       "1    1934\n",
       "Name: communication, dtype: int64"
      ]
     },
     "execution_count": 95,
     "metadata": {},
     "output_type": "execute_result"
    }
   ],
   "source": [
    "df['communication']= df['Job Description'].apply(lambda x: 1 if 'communication'  in x.lower() or 'storytelling' in x.lower() else 0 )\n",
    "df['communication'].value_counts()"
   ]
  },
  {
   "cell_type": "code",
   "execution_count": 103,
   "metadata": {},
   "outputs": [
    {
     "data": {
      "text/html": [
       "<div>\n",
       "<style scoped>\n",
       "    .dataframe tbody tr th:only-of-type {\n",
       "        vertical-align: middle;\n",
       "    }\n",
       "\n",
       "    .dataframe tbody tr th {\n",
       "        vertical-align: top;\n",
       "    }\n",
       "\n",
       "    .dataframe thead th {\n",
       "        text-align: right;\n",
       "    }\n",
       "</style>\n",
       "<table border=\"1\" class=\"dataframe\">\n",
       "  <thead>\n",
       "    <tr style=\"text-align: right;\">\n",
       "      <th></th>\n",
       "      <th>Job Title</th>\n",
       "      <th>Salary Estimate</th>\n",
       "      <th>Job Description</th>\n",
       "      <th>Rating</th>\n",
       "      <th>Company Name</th>\n",
       "      <th>Location</th>\n",
       "      <th>Headquarters</th>\n",
       "      <th>Size</th>\n",
       "      <th>Founded</th>\n",
       "      <th>Type of ownership</th>\n",
       "      <th>...</th>\n",
       "      <th>aws</th>\n",
       "      <th>visualization</th>\n",
       "      <th>Project_Management</th>\n",
       "      <th>Excel</th>\n",
       "      <th>Hadoop</th>\n",
       "      <th>Machine Learning</th>\n",
       "      <th>Ai</th>\n",
       "      <th>Unstructured Data</th>\n",
       "      <th>communication</th>\n",
       "      <th>Teamwork</th>\n",
       "    </tr>\n",
       "  </thead>\n",
       "  <tbody>\n",
       "    <tr>\n",
       "      <th>0</th>\n",
       "      <td>Senior Data Scientist</td>\n",
       "      <td>111  -181</td>\n",
       "      <td>ABOUT HOPPER\\n\\nAt Hopper, we’re on a mission ...</td>\n",
       "      <td>3.5</td>\n",
       "      <td>Hopper\\n3.5</td>\n",
       "      <td>New Yor, NY</td>\n",
       "      <td>Montreal, Canada</td>\n",
       "      <td>501 to 1000 employees</td>\n",
       "      <td>2007</td>\n",
       "      <td>Company   ,  Private</td>\n",
       "      <td>...</td>\n",
       "      <td>0</td>\n",
       "      <td>1</td>\n",
       "      <td>1</td>\n",
       "      <td>0</td>\n",
       "      <td>0</td>\n",
       "      <td>1</td>\n",
       "      <td>1</td>\n",
       "      <td>0</td>\n",
       "      <td>0</td>\n",
       "      <td>0</td>\n",
       "    </tr>\n",
       "    <tr>\n",
       "      <th>1</th>\n",
       "      <td>Data Scientist, Product Analytics</td>\n",
       "      <td>111  -181</td>\n",
       "      <td>At Noom, we use scientifically proven methods ...</td>\n",
       "      <td>4.5</td>\n",
       "      <td>Noom US\\n4.5</td>\n",
       "      <td>New Yor, NY</td>\n",
       "      <td>New Yor, NY</td>\n",
       "      <td>1001 to 5000 employees</td>\n",
       "      <td>2008</td>\n",
       "      <td>Company   ,  Private</td>\n",
       "      <td>...</td>\n",
       "      <td>0</td>\n",
       "      <td>0</td>\n",
       "      <td>0</td>\n",
       "      <td>1</td>\n",
       "      <td>0</td>\n",
       "      <td>1</td>\n",
       "      <td>1</td>\n",
       "      <td>0</td>\n",
       "      <td>1</td>\n",
       "      <td>0</td>\n",
       "    </tr>\n",
       "    <tr>\n",
       "      <th>2</th>\n",
       "      <td>Data Science Manager</td>\n",
       "      <td>111  -181</td>\n",
       "      <td>Decode_M\\n\\nhttps://www.decode  , m.com/\\n\\nDa...</td>\n",
       "      <td>-1.0</td>\n",
       "      <td>Decode_M</td>\n",
       "      <td>New Yor, NY</td>\n",
       "      <td>New Yor, NY</td>\n",
       "      <td>1 to 50 employees</td>\n",
       "      <td>-1</td>\n",
       "      <td>Unnown</td>\n",
       "      <td>...</td>\n",
       "      <td>0</td>\n",
       "      <td>0</td>\n",
       "      <td>1</td>\n",
       "      <td>1</td>\n",
       "      <td>0</td>\n",
       "      <td>1</td>\n",
       "      <td>1</td>\n",
       "      <td>0</td>\n",
       "      <td>0</td>\n",
       "      <td>0</td>\n",
       "    </tr>\n",
       "    <tr>\n",
       "      <th>3</th>\n",
       "      <td>Data Analyst</td>\n",
       "      <td>111  -181</td>\n",
       "      <td>Sapphire Digital sees a dynamic and driven mid...</td>\n",
       "      <td>3.4</td>\n",
       "      <td>Sapphire Digital\\n3.4</td>\n",
       "      <td>Lyndhurst, NJ</td>\n",
       "      <td>Lyndhurst, NJ</td>\n",
       "      <td>201 to 500 employees</td>\n",
       "      <td>2019</td>\n",
       "      <td>Company   ,  Private</td>\n",
       "      <td>...</td>\n",
       "      <td>0</td>\n",
       "      <td>1</td>\n",
       "      <td>1</td>\n",
       "      <td>1</td>\n",
       "      <td>0</td>\n",
       "      <td>0</td>\n",
       "      <td>1</td>\n",
       "      <td>0</td>\n",
       "      <td>1</td>\n",
       "      <td>0</td>\n",
       "    </tr>\n",
       "    <tr>\n",
       "      <th>4</th>\n",
       "      <td>Director, Data Science</td>\n",
       "      <td>111  -181</td>\n",
       "      <td>Director, Data Science   ,  (200537)\\nDescript...</td>\n",
       "      <td>3.4</td>\n",
       "      <td>United Entertainment Group\\n3.4</td>\n",
       "      <td>New Yor, NY</td>\n",
       "      <td>New Yor, NY</td>\n",
       "      <td>51 to 200 employees</td>\n",
       "      <td>2007</td>\n",
       "      <td>Company   ,  Private</td>\n",
       "      <td>...</td>\n",
       "      <td>0</td>\n",
       "      <td>0</td>\n",
       "      <td>1</td>\n",
       "      <td>1</td>\n",
       "      <td>0</td>\n",
       "      <td>1</td>\n",
       "      <td>1</td>\n",
       "      <td>0</td>\n",
       "      <td>1</td>\n",
       "      <td>0</td>\n",
       "    </tr>\n",
       "  </tbody>\n",
       "</table>\n",
       "<p>5 rows × 35 columns</p>\n",
       "</div>"
      ],
      "text/plain": [
       "                           Job Title Salary Estimate  \\\n",
       "0              Senior Data Scientist       111  -181   \n",
       "1  Data Scientist, Product Analytics      111  -181    \n",
       "2               Data Science Manager      111  -181    \n",
       "3                       Data Analyst      111  -181    \n",
       "4             Director, Data Science      111  -181    \n",
       "\n",
       "                                     Job Description  Rating  \\\n",
       "0  ABOUT HOPPER\\n\\nAt Hopper, we’re on a mission ...     3.5   \n",
       "1  At Noom, we use scientifically proven methods ...     4.5   \n",
       "2  Decode_M\\n\\nhttps://www.decode  , m.com/\\n\\nDa...    -1.0   \n",
       "3  Sapphire Digital sees a dynamic and driven mid...     3.4   \n",
       "4  Director, Data Science   ,  (200537)\\nDescript...     3.4   \n",
       "\n",
       "                      Company Name       Location      Headquarters  \\\n",
       "0                      Hopper\\n3.5    New Yor, NY  Montreal, Canada   \n",
       "1                     Noom US\\n4.5    New Yor, NY       New Yor, NY   \n",
       "2                         Decode_M    New Yor, NY       New Yor, NY   \n",
       "3            Sapphire Digital\\n3.4  Lyndhurst, NJ     Lyndhurst, NJ   \n",
       "4  United Entertainment Group\\n3.4    New Yor, NY       New Yor, NY   \n",
       "\n",
       "                     Size  Founded     Type of ownership  ... aws  \\\n",
       "0   501 to 1000 employees     2007  Company   ,  Private  ...   0   \n",
       "1  1001 to 5000 employees     2008  Company   ,  Private  ...   0   \n",
       "2       1 to 50 employees       -1                Unnown  ...   0   \n",
       "3    201 to 500 employees     2019  Company   ,  Private  ...   0   \n",
       "4     51 to 200 employees     2007  Company   ,  Private  ...   0   \n",
       "\n",
       "  visualization Project_Management Excel Hadoop  Machine Learning  Ai  \\\n",
       "0             1                  1     0      0                 1   1   \n",
       "1             0                  0     1      0                 1   1   \n",
       "2             0                  1     1      0                 1   1   \n",
       "3             1                  1     1      0                 0   1   \n",
       "4             0                  1     1      0                 1   1   \n",
       "\n",
       "   Unstructured Data communication Teamwork  \n",
       "0                  0             0        0  \n",
       "1                  0             1        0  \n",
       "2                  0             0        0  \n",
       "3                  0             1        0  \n",
       "4                  0             1        0  \n",
       "\n",
       "[5 rows x 35 columns]"
      ]
     },
     "execution_count": 103,
     "metadata": {},
     "output_type": "execute_result"
    }
   ],
   "source": [
    "df.head()"
   ]
  },
  {
   "cell_type": "code",
   "execution_count": 104,
   "metadata": {},
   "outputs": [],
   "source": [
    "df.to_csv(\"Data_Scientist_cleaned.csv\")"
   ]
  },
  {
   "cell_type": "code",
   "execution_count": null,
   "metadata": {},
   "outputs": [],
   "source": []
  }
 ],
 "metadata": {
  "kernelspec": {
   "display_name": "Python 3",
   "language": "python",
   "name": "python3"
  },
  "language_info": {
   "codemirror_mode": {
    "name": "ipython",
    "version": 3
   },
   "file_extension": ".py",
   "mimetype": "text/x-python",
   "name": "python",
   "nbconvert_exporter": "python",
   "pygments_lexer": "ipython3",
   "version": "3.8.5"
  }
 },
 "nbformat": 4,
 "nbformat_minor": 4
}
